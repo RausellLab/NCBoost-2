{
 "cells": [
  {
   "cell_type": "code",
   "execution_count": null,
   "metadata": {},
   "outputs": [],
   "source": [
    "## In-depth caracterization of single variants"
   ]
  },
  {
   "cell_type": "code",
   "execution_count": null,
   "metadata": {},
   "outputs": [],
   "source": [
    "import shap\n",
    "import polars as pl\n",
    "from src.ncboost_functions import get_feature_list\n",
    "from src.ncboost_functions import load_models\n",
    "\n",
    "l_path = '/data-cbl/bcaron/NCBoost/ncboost_dev'\n",
    "\n",
    "shap.initjs()\n",
    "\n",
    "model_name = 'ncboost_models'\n",
    "\n",
    "model_path = f'{l_path}/models/{model_name}'\n",
    "model_dict = {}\n",
    "models = load_models(model_path)\n",
    "\n",
    "\n",
    "A, B, C, D = get_feature_list()\n",
    "variables = ['chr', 'pos', 'ref', 'alt', 'region', 'closest_gene_name', 'closest_gene_ENSG', \n",
    "             'label', 'partition', 'matching_index', 'CADD', 'ReMM']\n",
    "region_list = ['upstream', 'downstream', 'intronic', 'UTR5', 'UTR3', 'intergenic']\n",
    "features = A + B + C + D + region_list\n",
    "\n",
    "variants =  pl.read_csv(source = f'{l_path}/data/testing/testing_data_scored.tsv', \n",
    "                   separator = '\\t',\n",
    "                   null_values='NA',\n",
    "                   schema_overrides={'chr': str, 'ZooUCE' : float}\n",
    "                   )\n"
   ]
  },
  {
   "cell_type": "code",
   "execution_count": null,
   "metadata": {},
   "outputs": [],
   "source": [
    "l_variant = variants.filter(pl.col('rsid') == 'rs777661576')\n",
    "l_variant.head()"
   ]
  },
  {
   "cell_type": "code",
   "execution_count": null,
   "metadata": {},
   "outputs": [],
   "source": [
    "l_model = l_variant['partition'][0]\n",
    "explainer = shap.TreeExplainer(models[l_model])\n",
    "\n",
    "dtest = variants.filter(pl.col('partition') == l_model).select(features)"
   ]
  },
  {
   "cell_type": "code",
   "execution_count": null,
   "metadata": {},
   "outputs": [],
   "source": [
    "shap_values = explainer.shap_values(dtest)\n",
    "shap.summary_plot(shap_values, \n",
    "                  features=dtest, \n",
    "                  feature_names=dtest.columns, \n",
    "                  plot_type=\"bar\", \n",
    "                  max_display=20, \n",
    "                  plot_size=[5,6]) \n"
   ]
  },
  {
   "cell_type": "code",
   "execution_count": null,
   "metadata": {},
   "outputs": [],
   "source": [
    "shap.force_plot(explainer.expected_value, shap_values[10, :], dtest.to_pandas().iloc[10, :])\n"
   ]
  },
  {
   "cell_type": "code",
   "execution_count": null,
   "metadata": {},
   "outputs": [],
   "source": [
    "shap.summary_plot(shap_values, dtest.to_pandas())\n"
   ]
  },
  {
   "cell_type": "code",
   "execution_count": null,
   "metadata": {},
   "outputs": [],
   "source": [
    "# explain the model's predictions using SHAP\n",
    "shap_values = explainer(dtest.to_pandas())\n"
   ]
  },
  {
   "cell_type": "code",
   "execution_count": null,
   "metadata": {},
   "outputs": [],
   "source": [
    "shap.plots.waterfall(shap_values[1])"
   ]
  },
  {
   "cell_type": "code",
   "execution_count": null,
   "metadata": {},
   "outputs": [],
   "source": []
  }
 ],
 "metadata": {
  "language_info": {
   "name": "python"
  }
 },
 "nbformat": 4,
 "nbformat_minor": 2
}
