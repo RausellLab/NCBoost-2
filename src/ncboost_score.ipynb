{
 "cells": [
  {
   "cell_type": "code",
   "execution_count": null,
   "metadata": {},
   "outputs": [],
   "source": [
    "import polars as pl\n",
    "import os"
   ]
  },
  {
   "cell_type": "code",
   "execution_count": null,
   "metadata": {},
   "outputs": [],
   "source": [
    "# Please replace the following path with the path of the file containing the variants you want to score\n",
    "input_path = 'data/testing/testing_data.tsv'"
   ]
  },
  {
   "cell_type": "markdown",
   "metadata": {},
   "source": [
    "## 1- Load and annotate variants\n",
    "\n",
    "This first section loads and annotate the set of variants to be scored, containing at least:\n",
    "\n",
    "chr: str, chromosome bearing the variant, [1:22], X, Y\n",
    "\n",
    "pos: int, hg38 genomic position of the variant\n",
    "\n",
    "ref: str, reference allele at the position\n",
    "\n",
    "alt: str, alternative allele at the position\n",
    "\n",
    "For testing purposes, if NCBoost 2 feature file was not downloaded, please directly run section 2.\n"
   ]
  },
  {
   "cell_type": "code",
   "execution_count": null,
   "metadata": {},
   "outputs": [],
   "source": [
    "name, extension = os.path.splitext(input_path)\n",
    "annotated_path = f'{name}_annotated.tsv'\n",
    "output_path = f'{name}_scored.tsv'"
   ]
  },
  {
   "cell_type": "code",
   "execution_count": null,
   "metadata": {},
   "outputs": [
    {
     "data": {
      "text/html": [
       "<div><style>\n",
       ".dataframe > thead > tr,\n",
       ".dataframe > tbody > tr {\n",
       "  text-align: right;\n",
       "  white-space: pre-wrap;\n",
       "}\n",
       "</style>\n",
       "<small>shape: (5, 6)</small><table border=\"1\" class=\"dataframe\"><thead><tr><th>chr</th><th>pos</th><th>rsid</th><th>ref</th><th>alt</th><th>label</th></tr><tr><td>str</td><td>i64</td><td>str</td><td>str</td><td>str</td><td>i64</td></tr></thead><tbody><tr><td>&quot;1&quot;</td><td>7961859</td><td>&quot;null&quot;</td><td>&quot;C&quot;</td><td>&quot;G&quot;</td><td>1</td></tr><tr><td>&quot;1&quot;</td><td>11022737</td><td>&quot;rs80356744&quot;</td><td>&quot;T&quot;</td><td>&quot;C&quot;</td><td>1</td></tr><tr><td>&quot;1&quot;</td><td>11023351</td><td>&quot;rs387906334&quot;</td><td>&quot;G&quot;</td><td>&quot;A&quot;</td><td>1</td></tr><tr><td>&quot;1&quot;</td><td>11790916</td><td>&quot;rs777661576&quot;</td><td>&quot;C&quot;</td><td>&quot;T&quot;</td><td>1</td></tr><tr><td>&quot;1&quot;</td><td>13308295</td><td>&quot;rs566581137&quot;</td><td>&quot;C&quot;</td><td>&quot;A&quot;</td><td>0</td></tr></tbody></table></div>"
      ],
      "text/plain": [
       "shape: (5, 6)\n",
       "┌─────┬──────────┬─────────────┬─────┬─────┬───────┐\n",
       "│ chr ┆ pos      ┆ rsid        ┆ ref ┆ alt ┆ label │\n",
       "│ --- ┆ ---      ┆ ---         ┆ --- ┆ --- ┆ ---   │\n",
       "│ str ┆ i64      ┆ str         ┆ str ┆ str ┆ i64   │\n",
       "╞═════╪══════════╪═════════════╪═════╪═════╪═══════╡\n",
       "│ 1   ┆ 7961859  ┆ null        ┆ C   ┆ G   ┆ 1     │\n",
       "│ 1   ┆ 11022737 ┆ rs80356744  ┆ T   ┆ C   ┆ 1     │\n",
       "│ 1   ┆ 11023351 ┆ rs387906334 ┆ G   ┆ A   ┆ 1     │\n",
       "│ 1   ┆ 11790916 ┆ rs777661576 ┆ C   ┆ T   ┆ 1     │\n",
       "│ 1   ┆ 13308295 ┆ rs566581137 ┆ C   ┆ A   ┆ 0     │\n",
       "└─────┴──────────┴─────────────┴─────┴─────┴───────┘"
      ]
     },
     "execution_count": 2,
     "metadata": {},
     "output_type": "execute_result"
    }
   ],
   "source": [
    "variants = pl.read_csv(source=input_path,\n",
    "                       separator = '\\t',\n",
    "                       null_values='NA',\n",
    "                       schema_overrides={'chr':str, 'pos':int}\n",
    "                       )\n",
    "\n",
    "variants.head()"
   ]
  },
  {
   "cell_type": "code",
   "execution_count": null,
   "metadata": {},
   "outputs": [
    {
     "name": "stderr",
     "output_type": "stream",
     "text": [
      "/data-cbl/bcaron/.conda/envs/ncboost2/lib/python3.10/site-packages/xgboost/core.py:265: FutureWarning: Your system has an old version of glibc (< 2.28). We will stop supporting Linux distros with glibc older than 2.28 after **May 31, 2025**. Please upgrade to a recent Linux distro (with glibc 2.28+) to use future versions of XGBoost.\n",
      "Note: You have installed the 'manylinux2014' variant of XGBoost. Certain features such as GPU algorithms or federated learning are not available. To use these features, please upgrade to a recent Linux distro with glibc 2.28+, and install the 'manylinux_2_28' variant.\n",
      "  warnings.warn(\n"
     ]
    },
    {
     "data": {
      "application/vnd.jupyter.widget-view+json": {
       "model_id": "aecfc80957e34349821e27049160fd46",
       "version_major": 2,
       "version_minor": 0
      },
      "text/plain": [
       "Chromosomes:   0%|          | 0/24 [00:00<?, ?it/s]"
      ]
     },
     "metadata": {},
     "output_type": "display_data"
    }
   ],
   "source": [
    "from src.ncboost_functions import add_ncboost_features\n",
    "\n",
    "variants = add_ncboost_features(variants, db_path='data/WG_annotated')\n",
    "variants = variants.drop('NCBoost')"
   ]
  },
  {
   "cell_type": "code",
   "execution_count": null,
   "metadata": {},
   "outputs": [],
   "source": [
    "variants.write_csv(file=annotated_path, \n",
    "                   separator=\"\\t\", \n",
    "                   include_header=True\n",
    "                   )"
   ]
  },
  {
   "cell_type": "markdown",
   "metadata": {},
   "source": [
    "## 2- Score Variants"
   ]
  },
  {
   "cell_type": "code",
   "execution_count": null,
   "metadata": {},
   "outputs": [
    {
     "data": {
      "text/html": [
       "<div><style>\n",
       ".dataframe > thead > tr,\n",
       ".dataframe > tbody > tr {\n",
       "  text-align: right;\n",
       "  white-space: pre-wrap;\n",
       "}\n",
       "</style>\n",
       "<small>shape: (5, 68)</small><table border=\"1\" class=\"dataframe\"><thead><tr><th>chr</th><th>pos</th><th>rsid</th><th>ref</th><th>alt</th><th>label</th><th>region</th><th>closest_gene_name</th><th>closest_gene_ENSG</th><th>paml_dnds</th><th>slr_dnds</th><th>paml_pvalue</th><th>paml_bh</th><th>gene_age</th><th>pLI</th><th>zscore_mis</th><th>zscore_syn</th><th>loeuf</th><th>GDI</th><th>ncRVIS</th><th>ncGERP</th><th>RVIS_percentile</th><th>pcGERP</th><th>CADD_ENSG</th><th>CADD_GeneName</th><th>GC</th><th>CpG</th><th>priPhCons</th><th>mamPhCons</th><th>verPhCons</th><th>priPhyloP</th><th>mamPhyloP</th><th>verPhyloP</th><th>bStatistic</th><th>GerpRS</th><th>GerpRSpval</th><th>GerpN</th><th>GerpS</th><th>Aparent2</th><th>ZooPriPhyloP</th><th>ZooVerPhyloP</th><th>ZooRoCC</th><th>ZooUCE</th><th>Roulette-FILTER</th><th>Roulette-MR</th><th>Roulette-AR</th><th>CADD</th><th>CADD_phred</th><th>CDTS</th><th>mean_MAF</th><th>mean_MAF_afr</th><th>mean_MAF_ami</th><th>mean_MAF_amr</th><th>mean_MAF_asj</th><th>mean_MAF_eas</th><th>mean_MAF_fin</th><th>mean_MAF_mid</th><th>mean_MAF_nfe</th><th>mean_MAF_sas</th><th>ReMM</th><th>SpliceAI</th><th>UTR3</th><th>UTR5</th><th>downstream</th><th>intergenic</th><th>intronic</th><th>upstream</th><th>partition</th></tr><tr><td>str</td><td>i64</td><td>str</td><td>str</td><td>str</td><td>i64</td><td>str</td><td>str</td><td>str</td><td>f64</td><td>f64</td><td>f64</td><td>f64</td><td>f64</td><td>f64</td><td>f64</td><td>f64</td><td>f64</td><td>f64</td><td>f64</td><td>f64</td><td>f64</td><td>f64</td><td>str</td><td>str</td><td>f64</td><td>f64</td><td>f64</td><td>f64</td><td>f64</td><td>f64</td><td>f64</td><td>f64</td><td>f64</td><td>f64</td><td>f64</td><td>f64</td><td>f64</td><td>f64</td><td>f64</td><td>f64</td><td>f64</td><td>str</td><td>str</td><td>f64</td><td>f64</td><td>f64</td><td>f64</td><td>f64</td><td>f64</td><td>f64</td><td>f64</td><td>f64</td><td>f64</td><td>f64</td><td>f64</td><td>f64</td><td>f64</td><td>f64</td><td>f64</td><td>f64</td><td>i64</td><td>i64</td><td>i64</td><td>i64</td><td>i64</td><td>i64</td><td>i64</td></tr></thead><tbody><tr><td>&quot;1&quot;</td><td>7961859</td><td>&quot;null&quot;</td><td>&quot;C&quot;</td><td>&quot;G&quot;</td><td>1</td><td>&quot;intronic&quot;</td><td>&quot;PARK7&quot;</td><td>&quot;ENSG00000116288&quot;</td><td>0.06659</td><td>0.06503</td><td>0.2592</td><td>0.5241</td><td>0.0</td><td>0.0013008</td><td>0.36438</td><td>-0.51419</td><td>1.025</td><td>67.74927</td><td>0.085881</td><td>-1.289033</td><td>60.090823</td><td>45.404095</td><td>null</td><td>null</td><td>0.781</td><td>0.253</td><td>0.69</td><td>0.0</td><td>0.001</td><td>0.399</td><td>-0.152</td><td>-0.334</td><td>824.0</td><td>null</td><td>null</td><td>3.24</td><td>0.217</td><td>null</td><td>0.091</td><td>0.0</td><td>null</td><td>null</td><td>&quot;TFBS&quot;</td><td>0.083</td><td>0.094</td><td>1.042958</td><td>10.81</td><td>-11.9677</td><td>0.004686</td><td>0.012429</td><td>0.123988</td><td>0.015091</td><td>0.109764</td><td>0.012163</td><td>0.081921</td><td>0.074301</td><td>0.008839</td><td>0.025181</td><td>0.930087</td><td>0.0</td><td>0</td><td>0</td><td>0</td><td>0</td><td>1</td><td>0</td><td>4</td></tr><tr><td>&quot;1&quot;</td><td>11022737</td><td>&quot;rs80356744&quot;</td><td>&quot;T&quot;</td><td>&quot;C&quot;</td><td>1</td><td>&quot;UTR3&quot;</td><td>&quot;TARDBP&quot;</td><td>&quot;ENSG00000120948&quot;</td><td>0.0279</td><td>0.02766</td><td>0.006474</td><td>0.03594</td><td>0.0</td><td>1.0</td><td>5.3187</td><td>0.24967</td><td>0.229</td><td>2.30437</td><td>-0.680325</td><td>3.245378</td><td>27.418023</td><td>13.653017</td><td>&quot;ENSG00000009724&quot;</td><td>&quot;MASP2&quot;</td><td>0.298</td><td>0.0</td><td>0.979</td><td>1.0</td><td>1.0</td><td>0.467</td><td>3.166</td><td>5.032</td><td>848.0</td><td>9701.77</td><td>0.0</td><td>6.12</td><td>6.12</td><td>0.08907</td><td>0.999</td><td>2.411</td><td>null</td><td>null</td><td>&quot;low&quot;</td><td>0.02</td><td>null</td><td>1.400023</td><td>13.57</td><td>-5.50229</td><td>0.000184</td><td>0.000249</td><td>0.0252193</td><td>0.0008</td><td>0.007777</td><td>0.001048</td><td>0.009617</td><td>0.005102</td><td>0.000474</td><td>0.000673</td><td>0.972025</td><td>0.0</td><td>1</td><td>0</td><td>0</td><td>0</td><td>0</td><td>0</td><td>5</td></tr><tr><td>&quot;1&quot;</td><td>11023351</td><td>&quot;rs387906334&quot;</td><td>&quot;G&quot;</td><td>&quot;A&quot;</td><td>1</td><td>&quot;UTR3&quot;</td><td>&quot;TARDBP&quot;</td><td>&quot;ENSG00000120948&quot;</td><td>0.0279</td><td>0.02766</td><td>0.006474</td><td>0.03594</td><td>0.0</td><td>1.0</td><td>5.3187</td><td>0.24967</td><td>0.229</td><td>2.30437</td><td>-0.680325</td><td>3.245378</td><td>27.418023</td><td>13.653017</td><td>&quot;ENSG00000009724&quot;</td><td>&quot;MASP2&quot;</td><td>0.464</td><td>0.12</td><td>0.997</td><td>1.0</td><td>1.0</td><td>0.595</td><td>0.926</td><td>2.587</td><td>849.0</td><td>9701.77</td><td>0.0</td><td>6.2</td><td>2.63</td><td>null</td><td>1.0</td><td>4.134</td><td>248.0</td><td>null</td><td>&quot;high&quot;</td><td>1.966</td><td>null</td><td>2.002378</td><td>16.76</td><td>-12.9149</td><td>0.000168</td><td>0.000224</td><td>0.0252193</td><td>0.000746</td><td>0.007489</td><td>0.000272</td><td>0.007299</td><td>0.003401</td><td>0.000435</td><td>0.000442</td><td>0.914964</td><td>0.02</td><td>1</td><td>0</td><td>0</td><td>0</td><td>0</td><td>0</td><td>5</td></tr><tr><td>&quot;1&quot;</td><td>11790916</td><td>&quot;rs777661576&quot;</td><td>&quot;C&quot;</td><td>&quot;T&quot;</td><td>1</td><td>&quot;intronic&quot;</td><td>&quot;MTHFR&quot;</td><td>&quot;ENSG00000177000&quot;</td><td>0.09733</td><td>0.09315</td><td>0.3499</td><td>0.6468</td><td>0.0</td><td>1.0506e-11</td><td>2.024</td><td>0.35912</td><td>0.859</td><td>4524.99996</td><td>-0.072474</td><td>-0.788072</td><td>60.710073</td><td>36.783405</td><td>&quot;ENSG00000177000&quot;</td><td>&quot;MTHFR&quot;</td><td>0.57</td><td>0.053</td><td>0.004</td><td>0.0</td><td>0.0</td><td>0.407</td><td>-0.384</td><td>-0.372</td><td>900.0</td><td>null</td><td>null</td><td>1.46</td><td>-0.585</td><td>null</td><td>0.001</td><td>0.43</td><td>null</td><td>null</td><td>&quot;TFBS&quot;</td><td>0.073</td><td>null</td><td>0.091441</td><td>1.519</td><td>1.45327</td><td>0.00197</td><td>0.005657</td><td>0.038807</td><td>0.0062</td><td>0.028183</td><td>0.011548</td><td>0.018624</td><td>0.043537</td><td>0.003341</td><td>0.015078</td><td>0.72465</td><td>0.91</td><td>0</td><td>0</td><td>0</td><td>0</td><td>1</td><td>0</td><td>6</td></tr><tr><td>&quot;1&quot;</td><td>13308295</td><td>&quot;rs566581137&quot;</td><td>&quot;C&quot;</td><td>&quot;A&quot;</td><td>0</td><td>&quot;intronic&quot;</td><td>&quot;PRAMEF33&quot;</td><td>&quot;ENSG00000237700&quot;</td><td>null</td><td>null</td><td>null</td><td>null</td><td>null</td><td>0.052995</td><td>1.9936</td><td>1.5978</td><td>1.53</td><td>null</td><td>null</td><td>null</td><td>null</td><td>null</td><td>&quot;ENSG00000237700&quot;</td><td>&quot;PRAMEF33&quot;</td><td>0.483</td><td>0.0</td><td>0.011</td><td>0.0</td><td>0.0</td><td>0.336</td><td>-0.124</td><td>-0.241</td><td>null</td><td>null</td><td>null</td><td>2.12</td><td>0.17</td><td>null</td><td>0.071</td><td>0.333</td><td>null</td><td>null</td><td>&quot;low&quot;</td><td>0.062</td><td>null</td><td>0.328103</td><td>3.582</td><td>null</td><td>0.007554</td><td>0.012117</td><td>0.078504</td><td>0.014881</td><td>0.028994</td><td>0.017286</td><td>0.02967</td><td>0.057277</td><td>0.013875</td><td>0.022553</td><td>0.341683</td><td>null</td><td>0</td><td>0</td><td>0</td><td>0</td><td>1</td><td>0</td><td>10</td></tr></tbody></table></div>"
      ],
      "text/plain": [
       "shape: (5, 68)\n",
       "┌─────┬──────────┬─────────────┬─────┬───┬────────────┬──────────┬──────────┬───────────┐\n",
       "│ chr ┆ pos      ┆ rsid        ┆ ref ┆ … ┆ intergenic ┆ intronic ┆ upstream ┆ partition │\n",
       "│ --- ┆ ---      ┆ ---         ┆ --- ┆   ┆ ---        ┆ ---      ┆ ---      ┆ ---       │\n",
       "│ str ┆ i64      ┆ str         ┆ str ┆   ┆ i64        ┆ i64      ┆ i64      ┆ i64       │\n",
       "╞═════╪══════════╪═════════════╪═════╪═══╪════════════╪══════════╪══════════╪═══════════╡\n",
       "│ 1   ┆ 7961859  ┆ null        ┆ C   ┆ … ┆ 0          ┆ 1        ┆ 0        ┆ 4         │\n",
       "│ 1   ┆ 11022737 ┆ rs80356744  ┆ T   ┆ … ┆ 0          ┆ 0        ┆ 0        ┆ 5         │\n",
       "│ 1   ┆ 11023351 ┆ rs387906334 ┆ G   ┆ … ┆ 0          ┆ 0        ┆ 0        ┆ 5         │\n",
       "│ 1   ┆ 11790916 ┆ rs777661576 ┆ C   ┆ … ┆ 0          ┆ 1        ┆ 0        ┆ 6         │\n",
       "│ 1   ┆ 13308295 ┆ rs566581137 ┆ C   ┆ … ┆ 0          ┆ 1        ┆ 0        ┆ 10        │\n",
       "└─────┴──────────┴─────────────┴─────┴───┴────────────┴──────────┴──────────┴───────────┘"
      ]
     },
     "execution_count": 5,
     "metadata": {},
     "output_type": "execute_result"
    }
   ],
   "source": [
    "variants = pl.read_csv(source=annotated_path,\n",
    "                       separator='\\t',\n",
    "                       null_values='NA',\n",
    "                       schema_overrides={'chr':str}\n",
    "                       )\n",
    "variants.head()"
   ]
  },
  {
   "cell_type": "code",
   "execution_count": 6,
   "metadata": {},
   "outputs": [
    {
     "data": {
      "text/html": [
       "<div><style>\n",
       ".dataframe > thead > tr,\n",
       ".dataframe > tbody > tr {\n",
       "  text-align: right;\n",
       "  white-space: pre-wrap;\n",
       "}\n",
       "</style>\n",
       "<small>shape: (5, 70)</small><table border=\"1\" class=\"dataframe\"><thead><tr><th>chr</th><th>pos</th><th>rsid</th><th>ref</th><th>alt</th><th>label</th><th>region</th><th>closest_gene_name</th><th>closest_gene_ENSG</th><th>paml_dnds</th><th>slr_dnds</th><th>paml_pvalue</th><th>paml_bh</th><th>gene_age</th><th>pLI</th><th>zscore_mis</th><th>zscore_syn</th><th>loeuf</th><th>GDI</th><th>ncRVIS</th><th>ncGERP</th><th>RVIS_percentile</th><th>pcGERP</th><th>CADD_ENSG</th><th>CADD_GeneName</th><th>GC</th><th>CpG</th><th>priPhCons</th><th>mamPhCons</th><th>verPhCons</th><th>priPhyloP</th><th>mamPhyloP</th><th>verPhyloP</th><th>bStatistic</th><th>GerpRS</th><th>GerpRSpval</th><th>GerpN</th><th>GerpS</th><th>Aparent2</th><th>ZooPriPhyloP</th><th>ZooVerPhyloP</th><th>ZooRoCC</th><th>ZooUCE</th><th>Roulette-FILTER</th><th>Roulette-MR</th><th>Roulette-AR</th><th>CADD</th><th>CADD_phred</th><th>CDTS</th><th>mean_MAF</th><th>mean_MAF_afr</th><th>mean_MAF_ami</th><th>mean_MAF_amr</th><th>mean_MAF_asj</th><th>mean_MAF_eas</th><th>mean_MAF_fin</th><th>mean_MAF_mid</th><th>mean_MAF_nfe</th><th>mean_MAF_sas</th><th>ReMM</th><th>SpliceAI</th><th>UTR3</th><th>UTR5</th><th>downstream</th><th>intergenic</th><th>intronic</th><th>upstream</th><th>partition</th><th>partition_right</th><th>NCBoost</th></tr><tr><td>str</td><td>i64</td><td>str</td><td>str</td><td>str</td><td>i64</td><td>str</td><td>str</td><td>str</td><td>f64</td><td>f64</td><td>f64</td><td>f64</td><td>f64</td><td>f64</td><td>f64</td><td>f64</td><td>f64</td><td>f64</td><td>f64</td><td>f64</td><td>f64</td><td>f64</td><td>str</td><td>str</td><td>f64</td><td>f64</td><td>f64</td><td>f64</td><td>f64</td><td>f64</td><td>f64</td><td>f64</td><td>f64</td><td>f64</td><td>f64</td><td>f64</td><td>f64</td><td>f64</td><td>f64</td><td>f64</td><td>f64</td><td>str</td><td>str</td><td>f64</td><td>f64</td><td>f64</td><td>f64</td><td>f64</td><td>f64</td><td>f64</td><td>f64</td><td>f64</td><td>f64</td><td>f64</td><td>f64</td><td>f64</td><td>f64</td><td>f64</td><td>f64</td><td>f64</td><td>i64</td><td>i64</td><td>i64</td><td>i64</td><td>i64</td><td>i64</td><td>i64</td><td>i64</td><td>f64</td></tr></thead><tbody><tr><td>&quot;1&quot;</td><td>7961859</td><td>&quot;null&quot;</td><td>&quot;C&quot;</td><td>&quot;G&quot;</td><td>1</td><td>&quot;intronic&quot;</td><td>&quot;PARK7&quot;</td><td>&quot;ENSG00000116288&quot;</td><td>0.06659</td><td>0.06503</td><td>0.2592</td><td>0.5241</td><td>0.0</td><td>0.0013008</td><td>0.36438</td><td>-0.51419</td><td>1.025</td><td>67.74927</td><td>0.085881</td><td>-1.289033</td><td>60.090823</td><td>45.404095</td><td>null</td><td>null</td><td>0.781</td><td>0.253</td><td>0.69</td><td>0.0</td><td>0.001</td><td>0.399</td><td>-0.152</td><td>-0.334</td><td>824.0</td><td>null</td><td>null</td><td>3.24</td><td>0.217</td><td>null</td><td>0.091</td><td>0.0</td><td>null</td><td>null</td><td>&quot;TFBS&quot;</td><td>0.083</td><td>0.094</td><td>1.042958</td><td>10.81</td><td>-11.9677</td><td>0.004686</td><td>0.012429</td><td>0.123988</td><td>0.015091</td><td>0.109764</td><td>0.012163</td><td>0.081921</td><td>0.074301</td><td>0.008839</td><td>0.025181</td><td>0.930087</td><td>0.0</td><td>0</td><td>0</td><td>0</td><td>0</td><td>1</td><td>0</td><td>4</td><td>4</td><td>0.031678</td></tr><tr><td>&quot;1&quot;</td><td>11022737</td><td>&quot;rs80356744&quot;</td><td>&quot;T&quot;</td><td>&quot;C&quot;</td><td>1</td><td>&quot;UTR3&quot;</td><td>&quot;TARDBP&quot;</td><td>&quot;ENSG00000120948&quot;</td><td>0.0279</td><td>0.02766</td><td>0.006474</td><td>0.03594</td><td>0.0</td><td>1.0</td><td>5.3187</td><td>0.24967</td><td>0.229</td><td>2.30437</td><td>-0.680325</td><td>3.245378</td><td>27.418023</td><td>13.653017</td><td>&quot;ENSG00000009724&quot;</td><td>&quot;MASP2&quot;</td><td>0.298</td><td>0.0</td><td>0.979</td><td>1.0</td><td>1.0</td><td>0.467</td><td>3.166</td><td>5.032</td><td>848.0</td><td>9701.77</td><td>0.0</td><td>6.12</td><td>6.12</td><td>0.08907</td><td>0.999</td><td>2.411</td><td>null</td><td>null</td><td>&quot;low&quot;</td><td>0.02</td><td>null</td><td>1.400023</td><td>13.57</td><td>-5.50229</td><td>0.000184</td><td>0.000249</td><td>0.0252193</td><td>0.0008</td><td>0.007777</td><td>0.001048</td><td>0.009617</td><td>0.005102</td><td>0.000474</td><td>0.000673</td><td>0.972025</td><td>0.0</td><td>1</td><td>0</td><td>0</td><td>0</td><td>0</td><td>0</td><td>5</td><td>5</td><td>0.115872</td></tr><tr><td>&quot;1&quot;</td><td>11023351</td><td>&quot;rs387906334&quot;</td><td>&quot;G&quot;</td><td>&quot;A&quot;</td><td>1</td><td>&quot;UTR3&quot;</td><td>&quot;TARDBP&quot;</td><td>&quot;ENSG00000120948&quot;</td><td>0.0279</td><td>0.02766</td><td>0.006474</td><td>0.03594</td><td>0.0</td><td>1.0</td><td>5.3187</td><td>0.24967</td><td>0.229</td><td>2.30437</td><td>-0.680325</td><td>3.245378</td><td>27.418023</td><td>13.653017</td><td>&quot;ENSG00000009724&quot;</td><td>&quot;MASP2&quot;</td><td>0.464</td><td>0.12</td><td>0.997</td><td>1.0</td><td>1.0</td><td>0.595</td><td>0.926</td><td>2.587</td><td>849.0</td><td>9701.77</td><td>0.0</td><td>6.2</td><td>2.63</td><td>null</td><td>1.0</td><td>4.134</td><td>248.0</td><td>null</td><td>&quot;high&quot;</td><td>1.966</td><td>null</td><td>2.002378</td><td>16.76</td><td>-12.9149</td><td>0.000168</td><td>0.000224</td><td>0.0252193</td><td>0.000746</td><td>0.007489</td><td>0.000272</td><td>0.007299</td><td>0.003401</td><td>0.000435</td><td>0.000442</td><td>0.914964</td><td>0.02</td><td>1</td><td>0</td><td>0</td><td>0</td><td>0</td><td>0</td><td>5</td><td>5</td><td>0.174726</td></tr><tr><td>&quot;1&quot;</td><td>11790916</td><td>&quot;rs777661576&quot;</td><td>&quot;C&quot;</td><td>&quot;T&quot;</td><td>1</td><td>&quot;intronic&quot;</td><td>&quot;MTHFR&quot;</td><td>&quot;ENSG00000177000&quot;</td><td>0.09733</td><td>0.09315</td><td>0.3499</td><td>0.6468</td><td>0.0</td><td>1.0506e-11</td><td>2.024</td><td>0.35912</td><td>0.859</td><td>4524.99996</td><td>-0.072474</td><td>-0.788072</td><td>60.710073</td><td>36.783405</td><td>&quot;ENSG00000177000&quot;</td><td>&quot;MTHFR&quot;</td><td>0.57</td><td>0.053</td><td>0.004</td><td>0.0</td><td>0.0</td><td>0.407</td><td>-0.384</td><td>-0.372</td><td>900.0</td><td>null</td><td>null</td><td>1.46</td><td>-0.585</td><td>null</td><td>0.001</td><td>0.43</td><td>null</td><td>null</td><td>&quot;TFBS&quot;</td><td>0.073</td><td>null</td><td>0.091441</td><td>1.519</td><td>1.45327</td><td>0.00197</td><td>0.005657</td><td>0.038807</td><td>0.0062</td><td>0.028183</td><td>0.011548</td><td>0.018624</td><td>0.043537</td><td>0.003341</td><td>0.015078</td><td>0.72465</td><td>0.91</td><td>0</td><td>0</td><td>0</td><td>0</td><td>1</td><td>0</td><td>6</td><td>6</td><td>0.864655</td></tr><tr><td>&quot;1&quot;</td><td>13308295</td><td>&quot;rs566581137&quot;</td><td>&quot;C&quot;</td><td>&quot;A&quot;</td><td>0</td><td>&quot;intronic&quot;</td><td>&quot;PRAMEF33&quot;</td><td>&quot;ENSG00000237700&quot;</td><td>null</td><td>null</td><td>null</td><td>null</td><td>null</td><td>0.052995</td><td>1.9936</td><td>1.5978</td><td>1.53</td><td>null</td><td>null</td><td>null</td><td>null</td><td>null</td><td>&quot;ENSG00000237700&quot;</td><td>&quot;PRAMEF33&quot;</td><td>0.483</td><td>0.0</td><td>0.011</td><td>0.0</td><td>0.0</td><td>0.336</td><td>-0.124</td><td>-0.241</td><td>null</td><td>null</td><td>null</td><td>2.12</td><td>0.17</td><td>null</td><td>0.071</td><td>0.333</td><td>null</td><td>null</td><td>&quot;low&quot;</td><td>0.062</td><td>null</td><td>0.328103</td><td>3.582</td><td>null</td><td>0.007554</td><td>0.012117</td><td>0.078504</td><td>0.014881</td><td>0.028994</td><td>0.017286</td><td>0.02967</td><td>0.057277</td><td>0.013875</td><td>0.022553</td><td>0.341683</td><td>null</td><td>0</td><td>0</td><td>0</td><td>0</td><td>1</td><td>0</td><td>10</td><td>10</td><td>0.00498</td></tr></tbody></table></div>"
      ],
      "text/plain": [
       "shape: (5, 70)\n",
       "┌─────┬──────────┬─────────────┬─────┬───┬──────────┬───────────┬─────────────────┬──────────┐\n",
       "│ chr ┆ pos      ┆ rsid        ┆ ref ┆ … ┆ upstream ┆ partition ┆ partition_right ┆ NCBoost  │\n",
       "│ --- ┆ ---      ┆ ---         ┆ --- ┆   ┆ ---      ┆ ---       ┆ ---             ┆ ---      │\n",
       "│ str ┆ i64      ┆ str         ┆ str ┆   ┆ i64      ┆ i64       ┆ i64             ┆ f64      │\n",
       "╞═════╪══════════╪═════════════╪═════╪═══╪══════════╪═══════════╪═════════════════╪══════════╡\n",
       "│ 1   ┆ 7961859  ┆ null        ┆ C   ┆ … ┆ 0        ┆ 4         ┆ 4               ┆ 0.031678 │\n",
       "│ 1   ┆ 11022737 ┆ rs80356744  ┆ T   ┆ … ┆ 0        ┆ 5         ┆ 5               ┆ 0.115872 │\n",
       "│ 1   ┆ 11023351 ┆ rs387906334 ┆ G   ┆ … ┆ 0        ┆ 5         ┆ 5               ┆ 0.174726 │\n",
       "│ 1   ┆ 11790916 ┆ rs777661576 ┆ C   ┆ … ┆ 0        ┆ 6         ┆ 6               ┆ 0.864655 │\n",
       "│ 1   ┆ 13308295 ┆ rs566581137 ┆ C   ┆ … ┆ 0        ┆ 10        ┆ 10              ┆ 0.00498  │\n",
       "└─────┴──────────┴─────────────┴─────┴───┴──────────┴───────────┴─────────────────┴──────────┘"
      ]
     },
     "execution_count": 6,
     "metadata": {},
     "output_type": "execute_result"
    }
   ],
   "source": [
    "from src.ncboost_functions import ncboost_score\n",
    "model_folder = 'ncboost_models'\n",
    "variants = ncboost_score(variants, model_name='ncboost_models')\n",
    "variants.head()"
   ]
  },
  {
   "cell_type": "code",
   "execution_count": null,
   "metadata": {},
   "outputs": [],
   "source": [
    "variants.write_csv(file=output_path, \n",
    "                   separator=\"\\t\", \n",
    "                   include_header=True\n",
    "                   )"
   ]
  }
 ],
 "metadata": {
  "kernelspec": {
   "display_name": "ncboost2",
   "language": "python",
   "name": "python3"
  },
  "language_info": {
   "codemirror_mode": {
    "name": "ipython",
    "version": 3
   },
   "file_extension": ".py",
   "mimetype": "text/x-python",
   "name": "python",
   "nbconvert_exporter": "python",
   "pygments_lexer": "ipython3",
   "version": "3.10.14"
  }
 },
 "nbformat": 4,
 "nbformat_minor": 2
}
