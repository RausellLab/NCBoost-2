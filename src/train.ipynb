{
 "cells": [
  {
   "cell_type": "markdown",
   "metadata": {},
   "source": [
    "Load annotation_matrix\n",
    "Load Variants\n",
    "Annotate Variants with annotation_matrix\n",
    "Create models\n",
    "Train models\n",
    "save data"
   ]
  },
  {
   "cell_type": "code",
   "execution_count": null,
   "metadata": {},
   "outputs": [],
   "source": [
    "import numpy as np\n",
    "import polars as pl\n",
    "import sys, os\n",
    "from src.ncboost_functions import ncboost_train\n",
    "\n",
    "l_path = '/data-cbl/bcaron/NCBoost/ncboost2/'"
   ]
  },
  {
   "cell_type": "code",
   "execution_count": null,
   "metadata": {},
   "outputs": [],
   "source": [
    "A = ['GerpN', 'priPhCons', 'mamPhCons', 'verPhCons', 'priPhyloP', 'mamPhyloP', 'verPhyloP', 'GerpRS', 'GerpRSpval',\n",
    "      'GerpS', 'ZooPriPhyloP', 'ZooVerPhyloP', 'ZooRoCC', 'ZooUCE', 'Roulette-AR']\n",
    "B = ['bStatistic',  'CDTS', 'mean_MAF', 'mean_MAF_afr', 'mean_MAF_ami', 'mean_MAF_amr', 'mean_MAF_asj', 'mean_MAF_eas',\n",
    " 'mean_MAF_fin', 'mean_MAF_mid', 'mean_MAF_nfe', 'mean_MAF_sas']\n",
    "C = ['slr_dnds', 'gene_age', 'pLI', 'zscore_mis', 'zscore_syn', 'loeuf', 'GDI', 'ncRVIS',\n",
    " 'ncGERP', 'RVIS_percentile', 'pcGERP']\n",
    "region_list = ['upstream', 'downstream', 'intronic', 'UTR5', 'UTR3', 'intergenic']\n",
    "D = ['GC', 'CpG', 'SpliceAI'] + region_list\n",
    "\n",
    "variables = ['chr', 'pos', 'ref', 'rsid', 'region', 'closest_gene_name', 'closest_gene_ENSG', \n",
    "             'label', 'partition', 'matching_index', 'CADD', 'ReMM']"
   ]
  },
  {
   "cell_type": "code",
   "execution_count": null,
   "metadata": {},
   "outputs": [],
   "source": [
    "pathogenic =  pl.read_csv(source = f'{l_path}/data/training/pathogenic_for_training_spliceai.tsv', \n",
    "                   separator = '\\t',\n",
    "                   schema_overrides = {'chr' : str, 'ZooRoCC' : int, 'ZooUCE' : int},\n",
    "                   null_values = 'NA'\n",
    "                   )\n",
    "\n",
    "common =  pl.read_csv(source = f'{l_path}/data/training/common_for_training_spliceai.tsv', \n",
    "                   separator = '\\t',\n",
    "                   schema_overrides = {'chr' : str, 'ZooRoCC' : int, 'ZooUCE' : int},\n",
    "                   null_values = 'NA'\n",
    "                   )"
   ]
  },
  {
   "cell_type": "code",
   "execution_count": null,
   "metadata": {},
   "outputs": [],
   "source": [
    "model_name = f'ncboost_models'\n",
    "save_path = f'models/{model_name}'\n",
    "if not os.path.exists(save_path):\n",
    "    os.makedirs(save_path)\n",
    "\n",
    "features = A + B + C + D\n",
    "\n",
    "data = pl.concat([common.select(variables + features), pathogenic.select(variables + features)], how = 'vertical')\n",
    "\n",
    "model_dict, feature_importance, annotated_data = ncboost_train(data, features, save_path)"
   ]
  },
  {
   "cell_type": "code",
   "execution_count": null,
   "metadata": {},
   "outputs": [],
   "source": [
    "annotated_data.write_csv(file = f'{save_path}/scored_data.tsv', \n",
    "                        separator = \"\\t\", \n",
    "                        include_header = True,\n",
    "                        null_value = 'NA'\n",
    "                        )"
   ]
  },
  {
   "cell_type": "code",
   "execution_count": null,
   "metadata": {},
   "outputs": [],
   "source": []
  }
 ],
 "metadata": {
  "kernelspec": {
   "display_name": "ncboost",
   "language": "python",
   "name": "python3"
  },
  "language_info": {
   "name": "python",
   "version": "3.10.14"
  }
 },
 "nbformat": 4,
 "nbformat_minor": 2
}
